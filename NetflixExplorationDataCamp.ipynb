{
  "cells": [
    {
      "cell_type": "markdown",
      "metadata": {
        "id": "zMnNDwSbQ8W1"
      },
      "source": [
        "Perform exploratory data analysis on the netflix_data.csv data to understand more about movies from the 1990s decade.\n",
        "\n",
        "* What was the most frequent movie duration in the 1990s? Save an approximate answer as an integer called duration (use 1990 as the decade's start year).\n",
        "\n",
        "* A movie is considered short if it is less than 90 minutes. Count the number of short action movies released in the 1990s and save this integer as short_movie_count."
      ]
    },
    {
      "cell_type": "code",
      "execution_count": null,
      "metadata": {
        "id": "pSXgXWiOQ7OU"
      },
      "outputs": [],
      "source": [
        "Image from the file system\n",
        "Netflix! What started in 1997 as a DVD rental service has since exploded into one of the largest entertainment and media companies.\n",
        "\n",
        "Given the large number of movies and series available on the platform, it is a perfect opportunity to flex your exploratory data analysis skills and dive into the entertainment industry.\n",
        "\n",
        "You work for a production company that specializes in nostalgic styles. You want to do some research on movies released in the 1990's. You'll delve into Netflix data and perform exploratory data analysis to better understand this awesome movie decade!\n",
        "\n",
        "You have been supplied with the dataset netflix_data.csv, along with the following table detailing the column names and descriptions. Feel free to experiment further after submitting!\n",
        "\n",
        "The data\n",
        "netflix_data.csv\n",
        "Column\tDescription\n",
        "show_id\tThe ID of the show\n",
        "type\tType of show\n",
        "title\tTitle of the show\n",
        "director\tDirector of the show\n",
        "cast\tCast of the show\n",
        "country\tCountry of origin\n",
        "date_added\tDate added to Netflix\n",
        "release_year\tYear of Netflix release\n",
        "duration\tDuration of the show in minutes\n",
        "description\tDescription of the show\n",
        "genre\tShow genre\n",
        "1\n",
        "# Importing pandas and matplotlib\n",
        "2\n",
        "import pandas as pd\n",
        "3\n",
        "import matplotlib.pyplot as plt\n",
        "4\n",
        "​\n",
        "5\n",
        "# Read in the Netflix CSV as a DataFrame\n",
        "6\n",
        "netflix_df = pd.read_csv(\"netflix_data.csv\")\n",
        "1\n",
        "netflix_df.head()\n",
        "Search\n",
        "Press ENTER to sort. Press ALT DOWN to open column menu. Press CTRL ENTER to open filter\n",
        "1\n",
        "print(netflix_df[\"genre\"].unique())\n",
        "['Dramas' 'Horror Movies' 'Action' 'International TV' 'Documentaries'\n",
        " 'Independent Movies' 'Comedies' 'Sci-Fi' 'International Movies'\n",
        " 'Children' 'TV Shows' 'Uncategorized' 'Classic Movies' 'Thrillers'\n",
        " 'Stand-Up' 'Anime Features' 'Music' 'Anime Series' 'Kids' 'Docuseries'\n",
        " 'Crime TV' 'British TV' 'Cult Movies' 'TV Action' 'Romantic TV'\n",
        " 'TV Horror' 'Romantic Movies' 'TV Comedies' 'Classic' 'Reality TV'\n",
        " 'LGBTQ Movies']\n",
        "title\n",
        "1\n",
        "movies = netflix_df[netflix_df[\"type\"]==\"Movie\"]\n",
        "2\n",
        "movies90s = movies[(movies[\"release_year\"] >= 1990) & (movies[\"release_year\"] < 2000)]\n",
        "3\n",
        "​\n",
        "4\n",
        "#most_frequent_duration = movie90s[\"duration\"].mode()[0]\n",
        "5\n",
        "most_frequent_duration = movies90s[\"duration\"].value_counts().idxmax()\n",
        "6\n",
        "print(f\"La durata più frequente nei film degli anni '90 è: {most_frequent_duration} minuti\")\n",
        "7\n",
        "​\n",
        "8\n",
        "#Adesso filtriamo per film d'azione con durata minore di 90 minuti (supponiamo che quello sia il range per gli \"Short Film\")\n",
        "9\n",
        "​\n",
        "10\n",
        "short_action_film = movies90s[(movies90s[\"duration\"] <= 90) & (movies90s[\"genre\"] == \"Action\")]\n",
        "11\n",
        "​\n",
        "12\n",
        "print(\"I film d'azione corti sono: \",len(short_action_film),\"\\n\",short_action_film[\"title\"])\n",
        "La durata più frequente nei film degli anni '90 è: 94 minuti\n",
        "I film d'azione corti sono:  7\n",
        " 1288    EVANGELION: DEATH (TRUE)²\n",
        "1698                         Hero\n",
        "2328            Look Out, Officer\n",
        "2993                 Passenger 57\n",
        "3297          Rumble in the Bronx\n",
        "3806          The Bare-Footed Kid\n",
        "3943        The End of Evangelion\n",
        "Name: title, dtype: object"
      ]
    }
  ],
  "metadata": {
    "colab": {
      "provenance": []
    },
    "kernelspec": {
      "display_name": "Python 3",
      "name": "python3"
    },
    "language_info": {
      "name": "python"
    }
  },
  "nbformat": 4,
  "nbformat_minor": 0
}
